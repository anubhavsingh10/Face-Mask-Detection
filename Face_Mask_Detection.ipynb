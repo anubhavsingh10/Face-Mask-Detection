{
  "nbformat": 4,
  "nbformat_minor": 0,
  "metadata": {
    "kernelspec": {
      "display_name": "Python 3",
      "language": "python",
      "name": "python3"
    },
    "language_info": {
      "codemirror_mode": {
        "name": "ipython",
        "version": 3
      },
      "file_extension": ".py",
      "mimetype": "text/x-python",
      "name": "python",
      "nbconvert_exporter": "python",
      "pygments_lexer": "ipython3",
      "version": "3.8.3"
    },
    "colab": {
      "name": "Face Mask Detection.ipynb",
      "provenance": [],
      "collapsed_sections": [],
      "toc_visible": true
    },
    "accelerator": "TPU"
  },
  "cells": [
    {
      "cell_type": "markdown",
      "metadata": {
        "id": "yJt3KUy4q3Wt"
      },
      "source": [
        "# Importing Libraries\n"
      ]
    },
    {
      "cell_type": "code",
      "metadata": {
        "colab": {
          "base_uri": "https://localhost:8080/"
        },
        "id": "cqTkdj7GrBSE",
        "outputId": "43835de6-23e6-4fb5-b5b7-263d17201c8b"
      },
      "source": [
        "from google.colab import drive\n",
        "drive.mount('/content/drive')"
      ],
      "execution_count": 1,
      "outputs": [
        {
          "output_type": "stream",
          "text": [
            "Mounted at /content/drive\n"
          ],
          "name": "stdout"
        }
      ]
    },
    {
      "cell_type": "code",
      "metadata": {
        "id": "LpIPg_xMq3Wu"
      },
      "source": [
        "import os\n",
        "import tensorflow as tf\n",
        "from tensorflow import keras\n",
        "import matplotlib.pyplot as plt\n",
        "import numpy as np\n",
        "import seaborn as sns\n",
        "import pandas as pd\n",
        "import cv2\n",
        "import random\n",
        "from tensorflow.keras.applications.mobilenet_v2 import preprocess_input\n",
        "from tensorflow.keras.preprocessing.image import img_to_array\n",
        "from tensorflow.keras.preprocessing.image import load_img\n",
        "%matplotlib inline"
      ],
      "execution_count": 2,
      "outputs": []
    },
    {
      "cell_type": "markdown",
      "metadata": {
        "id": "3rMi1_nFq3Wu"
      },
      "source": [
        "# Preprocessing Data"
      ]
    },
    {
      "cell_type": "code",
      "metadata": {
        "id": "OPFo4jp7q3Wu",
        "colab": {
          "base_uri": "https://localhost:8080/"
        },
        "outputId": "3bdd689b-2334-4ebf-d60f-2bb2f34ea8ce"
      },
      "source": [
        "main_directory = r\"/content/drive/My Drive/Face Mask Detection/dataset\"\n",
        "categories = ['with mask', 'without mask']\n",
        "num = [0,1]\n",
        "num_label = dict(zip(categories,num))\n",
        "print (num_label)"
      ],
      "execution_count": 3,
      "outputs": [
        {
          "output_type": "stream",
          "text": [
            "{'with mask': 0, 'without mask': 1}\n"
          ],
          "name": "stdout"
        }
      ]
    },
    {
      "cell_type": "code",
      "metadata": {
        "id": "Bkdm_maaq3Wu"
      },
      "source": [
        "data=[]\n",
        "label=[]\n",
        "\n",
        "for i in categories:\n",
        "    path = os.path.join(main_directory, i)\n",
        "    for img in os.listdir(path):\n",
        "        img_path = os.path.join(path,img)\n",
        "        image=load_img(img_path,target_size=(256,256))\n",
        "        image = img_to_array(image)\n",
        "        image=preprocess_input(image)\n",
        "        \n",
        "        data.append(image)\n",
        "        label.append(num_label[i])\n",
        "        num_label\n",
        "        \n",
        "data = np.array(data, dtype=\"float32\")\n",
        "label = np.array(label)\n"
      ],
      "execution_count": 4,
      "outputs": []
    },
    {
      "cell_type": "code",
      "metadata": {
        "colab": {
          "base_uri": "https://localhost:8080/"
        },
        "id": "qL8up2Y9q3Wu",
        "outputId": "2fb5e98c-5236-4c6c-fa97-a64f0e35c68e"
      },
      "source": [
        "print(len(data))\n",
        "\n",
        "print(len(label))\n",
        "\n",
        "data[1].shape"
      ],
      "execution_count": 5,
      "outputs": [
        {
          "output_type": "stream",
          "text": [
            "1376\n",
            "1376\n"
          ],
          "name": "stdout"
        },
        {
          "output_type": "execute_result",
          "data": {
            "text/plain": [
              "(256, 256, 3)"
            ]
          },
          "metadata": {
            "tags": []
          },
          "execution_count": 5
        }
      ]
    },
    {
      "cell_type": "code",
      "metadata": {
        "colab": {
          "base_uri": "https://localhost:8080/"
        },
        "id": "dxkRtDvGq3Ww",
        "outputId": "7932b57d-d5f8-4e29-fa0a-ed69d4ffc051"
      },
      "source": [
        "print (data[1])\n",
        "print (label[1])"
      ],
      "execution_count": 6,
      "outputs": [
        {
          "output_type": "stream",
          "text": [
            "[[[-0.35686272 -0.40392154 -0.3098039 ]\n",
            "  [-0.34117645 -0.38823527 -0.29411763]\n",
            "  [-0.3333333  -0.38039213 -0.2862745 ]\n",
            "  ...\n",
            "  [ 0.79607844  0.58431375  0.34901965]\n",
            "  [ 0.827451    0.6156863   0.3803922 ]\n",
            "  [ 0.8352941   0.62352943  0.38823533]]\n",
            "\n",
            " [[-0.3333333  -0.38039213 -0.2862745 ]\n",
            "  [-0.3490196  -0.3960784  -0.30196077]\n",
            "  [-0.372549   -0.41960782 -0.32549018]\n",
            "  ...\n",
            "  [ 0.73333335  0.52156866  0.28627455]\n",
            "  [ 0.7882353   0.5764706   0.3411765 ]\n",
            "  [ 0.827451    0.6156863   0.3803922 ]]\n",
            "\n",
            " [[-0.2862745  -0.3333333  -0.23921567]\n",
            "  [-0.31764704 -0.36470586 -0.27058822]\n",
            "  [-0.35686272 -0.40392154 -0.3098039 ]\n",
            "  ...\n",
            "  [ 0.7411765   0.5294118   0.2941177 ]\n",
            "  [ 0.79607844  0.58431375  0.34901965]\n",
            "  [ 0.827451    0.6156863   0.3803922 ]]\n",
            "\n",
            " ...\n",
            "\n",
            " [[ 0.30196083 -0.23921567 -0.19999999]\n",
            "  [ 0.28627455 -0.23137254 -0.19999999]\n",
            "  [ 0.28627455 -0.23137254 -0.21568626]\n",
            "  ...\n",
            "  [-0.19215685 -0.00392157  0.20000005]\n",
            "  [-0.23921567 -0.05098039  0.13725495]\n",
            "  [-0.18431371 -0.01176471  0.1686275 ]]\n",
            "\n",
            " [[ 0.26274514 -0.27843136 -0.23921567]\n",
            "  [ 0.254902   -0.26274508 -0.23137254]\n",
            "  [ 0.24705887 -0.27058822 -0.25490195]\n",
            "  ...\n",
            "  [-0.23921567 -0.05098039  0.15294123]\n",
            "  [-0.2862745  -0.09803921  0.09019613]\n",
            "  [-0.23921567 -0.06666666  0.11372554]]\n",
            "\n",
            " [[ 0.1686275  -0.372549   -0.3333333 ]\n",
            "  [ 0.1686275  -0.3490196  -0.31764704]\n",
            "  [ 0.17647064 -0.34117645 -0.32549018]\n",
            "  ...\n",
            "  [-0.14509803  0.04313731  0.24705887]\n",
            "  [-0.20784312 -0.01960784  0.1686275 ]\n",
            "  [-0.19215685 -0.01960784  0.16078436]]]\n",
            "0\n"
          ],
          "name": "stdout"
        }
      ]
    },
    {
      "cell_type": "markdown",
      "metadata": {
        "id": "2YJoJ-t3ZJ0h"
      },
      "source": [
        "# **Preview**\n",
        "\n",
        "\n",
        "\n",
        "\n"
      ]
    },
    {
      "cell_type": "code",
      "metadata": {
        "colab": {
          "base_uri": "https://localhost:8080/",
          "height": 320
        },
        "id": "wMKkpoQ0q3Ww",
        "outputId": "08267efc-aaae-4a00-c198-bbeb658d1d58"
      },
      "source": [
        "i = random.randint(1,len(data))\n",
        "plt.imshow(data[i])\n",
        "print(i)\n",
        "print(label[i])"
      ],
      "execution_count": 7,
      "outputs": [
        {
          "output_type": "stream",
          "text": [
            "Clipping input data to the valid range for imshow with RGB data ([0..1] for floats or [0..255] for integers).\n"
          ],
          "name": "stderr"
        },
        {
          "output_type": "stream",
          "text": [
            "967\n",
            "1\n"
          ],
          "name": "stdout"
        },
        {
          "output_type": "display_data",
          "data": {
            "image/png": "[encoded data removed]",
            "text/plain": [
              "<Figure size 432x288 with 1 Axes>"
            ]
          },
          "metadata": {
            "tags": [],
            "needs_background": "light"
          }
        }
      ]
    },
    {
      "cell_type": "code",
      "metadata": {
        "id": "TmhIhBlAq3Ww"
      },
      "source": [
        "from keras.utils import np_utils\n",
        "newlabel=np.array(label)\n",
        "label= np_utils.to_categorical(newlabel)"
      ],
      "execution_count": 8,
      "outputs": []
    },
    {
      "cell_type": "code",
      "metadata": {
        "colab": {
          "base_uri": "https://localhost:8080/"
        },
        "id": "H9nuzUP-q3Ww",
        "outputId": "ced5142e-6b58-4ee1-bb33-f7354e71359a"
      },
      "source": [
        "tf.image.rgb_to_grayscale(data, name=None)"
      ],
      "execution_count": 9,
      "outputs": [
        {
          "output_type": "execute_result",
          "data": {
            "text/plain": [
              "<tf.Tensor: shape=(1376, 256, 256, 1), dtype=float32, numpy=\n",
              "array([[[[ 0.7512044 ],\n",
              "         [ 0.7512044 ],\n",
              "         [ 0.75904673],\n",
              "         ...,\n",
              "         [ 0.5123926 ],\n",
              "         [ 0.5045502 ],\n",
              "         [ 0.46533847]],\n",
              "\n",
              "        [[ 0.75904673],\n",
              "         [ 0.75904673],\n",
              "         [ 0.7668891 ],\n",
              "         ...,\n",
              "         [ 0.52023494],\n",
              "         [ 0.5123926 ],\n",
              "         [ 0.4810232 ]],\n",
              "\n",
              "        [[ 0.7668891 ],\n",
              "         [ 0.7668891 ],\n",
              "         [ 0.7668891 ],\n",
              "         ...,\n",
              "         [ 0.528162  ],\n",
              "         [ 0.52031964],\n",
              "         [ 0.48895022]],\n",
              "\n",
              "        ...,\n",
              "\n",
              "        [[ 0.38032594],\n",
              "         [ 0.45874947],\n",
              "         [ 0.54007334],\n",
              "         ...,\n",
              "         [-0.77567494],\n",
              "         [-0.7788286 ],\n",
              "         [-0.7709863 ]],\n",
              "\n",
              "        [[ 0.30134633],\n",
              "         [ 0.3719275 ],\n",
              "         [ 0.40385297],\n",
              "         ...,\n",
              "         [-0.786671  ],\n",
              "         [-0.79451334],\n",
              "         [-0.7828765 ]],\n",
              "\n",
              "        [[ 0.401762  ],\n",
              "         [ 0.47234318],\n",
              "         [ 0.4801855 ],\n",
              "         ...,\n",
              "         [-0.8023557 ],\n",
              "         [-0.8142459 ],\n",
              "         [-0.79071885]]],\n",
              "\n",
              "\n",
              "       [[[-0.3790859 ],\n",
              "         [-0.36340114],\n",
              "         [-0.3555588 ],\n",
              "         ...,\n",
              "         [ 0.62072825],\n",
              "         [ 0.6520977 ],\n",
              "         [ 0.65994006]],\n",
              "\n",
              "        [[-0.3555588 ],\n",
              "         [-0.3712435 ],\n",
              "         [-0.39477056],\n",
              "         ...,\n",
              "         [ 0.5579894 ],\n",
              "         [ 0.6128859 ],\n",
              "         [ 0.6520977 ]],\n",
              "\n",
              "        [[-0.3085047 ],\n",
              "         [-0.3398741 ],\n",
              "         [-0.3790859 ],\n",
              "         ...,\n",
              "         [ 0.5658318 ],\n",
              "         [ 0.62072825],\n",
              "         [ 0.6520977 ]],\n",
              "\n",
              "        ...,\n",
              "\n",
              "        [[-0.07296351],\n",
              "         [-0.07304821],\n",
              "         [-0.07483645],\n",
              "         ...,\n",
              "         [-0.03693764],\n",
              "         [-0.08577999],\n",
              "         [-0.04277372]],\n",
              "\n",
              "        [[-0.11217526],\n",
              "         [-0.10441763],\n",
              "         [-0.11404821],\n",
              "         ...,\n",
              "         [-0.08399176],\n",
              "         [-0.1328341 ],\n",
              "         [-0.09767019]],\n",
              "\n",
              "        [[-0.20628351],\n",
              "         [-0.1906835 ],\n",
              "         [-0.18462938],\n",
              "         ...,\n",
              "         [ 0.01011651],\n",
              "         [-0.05441058],\n",
              "         [-0.05061607]]],\n",
              "\n",
              "\n",
              "       [[[ 0.99990004],\n",
              "         [ 0.99990004],\n",
              "         [ 0.99990004],\n",
              "         ...,\n",
              "         [ 0.99990004],\n",
              "         [ 0.99990004],\n",
              "         [ 0.99990004]],\n",
              "\n",
              "        [[ 0.99990004],\n",
              "         [ 0.99990004],\n",
              "         [ 0.99990004],\n",
              "         ...,\n",
              "         [ 0.99990004],\n",
              "         [ 0.99990004],\n",
              "         [ 0.99990004]],\n",
              "\n",
              "        [[ 0.99990004],\n",
              "         [ 0.99990004],\n",
              "         [ 0.99990004],\n",
              "         ...,\n",
              "         [ 0.99990004],\n",
              "         [ 0.99990004],\n",
              "         [ 0.99990004]],\n",
              "\n",
              "        ...,\n",
              "\n",
              "        [[ 0.99990004],\n",
              "         [ 0.99990004],\n",
              "         [ 0.99990004],\n",
              "         ...,\n",
              "         [ 0.97637296],\n",
              "         [ 0.97637296],\n",
              "         [ 0.99990004]],\n",
              "\n",
              "        [[ 0.99990004],\n",
              "         [ 0.99990004],\n",
              "         [ 0.99990004],\n",
              "         ...,\n",
              "         [ 0.99990004],\n",
              "         [ 0.95284593],\n",
              "         [ 0.7959989 ]],\n",
              "\n",
              "        [[ 0.9963235 ],\n",
              "         [ 0.9963235 ],\n",
              "         [ 0.9981118 ],\n",
              "         ...,\n",
              "         [ 0.6940482 ],\n",
              "         [-0.25487646],\n",
              "         [ 0.6469941 ]]],\n",
              "\n",
              "\n",
              "       ...,\n",
              "\n",
              "\n",
              "       [[[ 0.4984357 ],\n",
              "         [ 0.04460669],\n",
              "         [ 0.8037934 ],\n",
              "         ...,\n",
              "         [ 0.7586122 ],\n",
              "         [ 0.365104  ],\n",
              "         [ 0.50703883]],\n",
              "\n",
              "        [[ 0.75770473],\n",
              "         [ 0.1912671 ],\n",
              "         [ 0.6079879 ],\n",
              "         ...,\n",
              "         [ 0.09022319],\n",
              "         [ 0.45899495],\n",
              "         [ 0.48056436]],\n",
              "\n",
              "        [[ 0.70835495],\n",
              "         [ 0.53863883],\n",
              "         [ 0.55197924],\n",
              "         ...,\n",
              "         [ 0.5653675 ],\n",
              "         [ 0.4298373 ],\n",
              "         [ 0.3578914 ]],\n",
              "\n",
              "        ...,\n",
              "\n",
              "        [[ 0.99107885],\n",
              "         [ 0.9878404 ],\n",
              "         [ 0.97863257],\n",
              "         ...,\n",
              "         [ 0.69342077],\n",
              "         [ 0.93619573],\n",
              "         [ 0.98559415]],\n",
              "\n",
              "        [[ 0.89911026],\n",
              "         [ 0.9360624 ],\n",
              "         [ 0.93793535],\n",
              "         ...,\n",
              "         [ 0.8567322 ],\n",
              "         [ 0.93618315],\n",
              "         [ 0.9440255 ]],\n",
              "\n",
              "        [[ 0.9064451 ],\n",
              "         [ 0.98358786],\n",
              "         [ 0.8885855 ],\n",
              "         ...,\n",
              "         [ 0.98148435],\n",
              "         [ 0.87288827],\n",
              "         [ 0.9462851 ]]],\n",
              "\n",
              "\n",
              "       [[[ 0.9902694 ],\n",
              "         [ 0.9902694 ],\n",
              "         [ 0.9902694 ],\n",
              "         ...,\n",
              "         [ 0.09128594],\n",
              "         [ 0.7035455 ],\n",
              "         [ 0.9952961 ]],\n",
              "\n",
              "        [[ 0.9902694 ],\n",
              "         [ 0.9902694 ],\n",
              "         [ 0.9902694 ],\n",
              "         ...,\n",
              "         [ 0.6712326 ],\n",
              "         [ 0.28516906],\n",
              "         [ 0.9671644 ]],\n",
              "\n",
              "        [[ 0.9902694 ],\n",
              "         [ 0.9902694 ],\n",
              "         [ 0.9902694 ],\n",
              "         ...,\n",
              "         [ 0.42014396],\n",
              "         [ 0.18597221],\n",
              "         [ 0.10033378]],\n",
              "\n",
              "        ...,\n",
              "\n",
              "        [[-0.68915176],\n",
              "         [-0.6969941 ],\n",
              "         [-0.6923055 ],\n",
              "         ...,\n",
              "         [-0.5452702 ],\n",
              "         [-0.5295855 ],\n",
              "         [-0.53742784]],\n",
              "\n",
              "        [[-0.672573  ],\n",
              "         [-0.68041533],\n",
              "         [-0.688173  ],\n",
              "         ...,\n",
              "         [-0.55311257],\n",
              "         [-0.5609549 ],\n",
              "         [-0.5609549 ]],\n",
              "\n",
              "        [[-0.6882577 ],\n",
              "         [-0.6961    ],\n",
              "         [-0.6960153 ],\n",
              "         ...,\n",
              "         [-0.5609549 ],\n",
              "         [-0.5609549 ],\n",
              "         [-0.5609549 ]]],\n",
              "\n",
              "\n",
              "       [[[ 0.99990004],\n",
              "         [ 0.99990004],\n",
              "         [ 0.99990004],\n",
              "         ...,\n",
              "         [ 0.99990004],\n",
              "         [ 0.99990004],\n",
              "         [ 0.99990004]],\n",
              "\n",
              "        [[ 0.99990004],\n",
              "         [ 0.99990004],\n",
              "         [ 0.99990004],\n",
              "         ...,\n",
              "         [ 0.99990004],\n",
              "         [ 0.99990004],\n",
              "         [ 0.99990004]],\n",
              "\n",
              "        [[ 0.99990004],\n",
              "         [ 0.99990004],\n",
              "         [ 0.99990004],\n",
              "         ...,\n",
              "         [ 0.9920577 ],\n",
              "         [ 0.99990004],\n",
              "         [ 0.99990004]],\n",
              "\n",
              "        ...,\n",
              "\n",
              "        [[ 0.99755573],\n",
              "         [ 0.99990004],\n",
              "         [ 0.99990004],\n",
              "         ...,\n",
              "         [ 0.99252903],\n",
              "         [ 0.99990004],\n",
              "         [ 0.99755573]],\n",
              "\n",
              "        [[ 0.99755573],\n",
              "         [ 0.99990004],\n",
              "         [ 0.99990004],\n",
              "         ...,\n",
              "         [ 0.9846867 ],\n",
              "         [ 0.99990004],\n",
              "         [ 0.99755573]],\n",
              "\n",
              "        [[ 0.99990004],\n",
              "         [ 0.99990004],\n",
              "         [ 0.9952961 ],\n",
              "         ...,\n",
              "         [ 0.99252903],\n",
              "         [ 0.99755573],\n",
              "         [ 0.99755573]]]], dtype=float32)>"
            ]
          },
          "metadata": {
            "tags": []
          },
          "execution_count": 9
        }
      ]
    },
    {
      "cell_type": "markdown",
      "metadata": {
        "id": "osr7DZYgZv3T"
      },
      "source": [
        "#**Shuffling Data**"
      ]
    },
    {
      "cell_type": "code",
      "metadata": {
        "id": "HAEo7D6Eq3Ww"
      },
      "source": [
        "from sklearn.utils import shuffle\n",
        "data,label=shuffle(data,label)"
      ],
      "execution_count": 10,
      "outputs": []
    },
    {
      "cell_type": "code",
      "metadata": {
        "id": "q7R67zaEq3Ww"
      },
      "source": [
        "#data = np.array(data)/255"
      ],
      "execution_count": 11,
      "outputs": []
    },
    {
      "cell_type": "code",
      "metadata": {
        "colab": {
          "base_uri": "https://localhost:8080/"
        },
        "id": "HNPm6k66q3Wx",
        "outputId": "217988f7-8eb5-4a26-c399-51b445b587b8"
      },
      "source": [
        "print (data[0])"
      ],
      "execution_count": 12,
      "outputs": [
        {
          "output_type": "stream",
          "text": [
            "[[[1.         1.         1.        ]\n",
            "  [1.         1.         1.        ]\n",
            "  [1.         1.         1.        ]\n",
            "  ...\n",
            "  [1.         1.         0.96862745]\n",
            "  [1.         1.         0.96862745]\n",
            "  [1.         1.         0.96862745]]\n",
            "\n",
            " [[1.         1.         1.        ]\n",
            "  [1.         1.         1.        ]\n",
            "  [1.         1.         1.        ]\n",
            "  ...\n",
            "  [1.         1.         0.9607843 ]\n",
            "  [1.         1.         0.9607843 ]\n",
            "  [1.         1.         0.9607843 ]]\n",
            "\n",
            " [[1.         1.         1.        ]\n",
            "  [1.         1.         1.        ]\n",
            "  [1.         1.         1.        ]\n",
            "  ...\n",
            "  [1.         1.         0.94509804]\n",
            "  [1.         1.         0.94509804]\n",
            "  [1.         1.         0.94509804]]\n",
            "\n",
            " ...\n",
            "\n",
            " [[0.92941177 0.9372549  0.8980392 ]\n",
            "  [0.92941177 0.9372549  0.8980392 ]\n",
            "  [0.8980392  0.90588236 0.8666667 ]\n",
            "  ...\n",
            "  [0.96862745 0.96862745 0.9529412 ]\n",
            "  [0.99215686 1.         0.9607843 ]\n",
            "  [0.99215686 1.         0.9529412 ]]\n",
            "\n",
            " [[0.9764706  0.9843137  0.94509804]\n",
            "  [0.9764706  0.9843137  0.94509804]\n",
            "  [0.9764706  0.9843137  0.9372549 ]\n",
            "  ...\n",
            "  [0.78039217 0.78039217 0.78039217]\n",
            "  [0.92156863 0.92941177 0.8901961 ]\n",
            "  [0.94509804 0.9529412  0.90588236]]\n",
            "\n",
            " [[0.9843137  0.99215686 0.9529412 ]\n",
            "  [0.9843137  0.99215686 0.9529412 ]\n",
            "  [0.9843137  0.99215686 0.9529412 ]\n",
            "  ...\n",
            "  [0.60784316 0.60784316 0.62352943]\n",
            "  [0.8666667  0.8745098  0.8352941 ]\n",
            "  [0.9137255  0.92156863 0.8745098 ]]]\n"
          ],
          "name": "stdout"
        }
      ]
    },
    {
      "cell_type": "code",
      "metadata": {
        "colab": {
          "base_uri": "https://localhost:8080/",
          "height": 320
        },
        "id": "C5sMYyOoq3Wx",
        "outputId": "f147f6fe-998b-4c43-9580-3b4f5dbc1f1c"
      },
      "source": [
        "i = random.randint(1,len(data))\n",
        "plt.imshow(data[i])\n",
        "print(i)\n",
        "print(label[i])"
      ],
      "execution_count": 13,
      "outputs": [
        {
          "output_type": "stream",
          "text": [
            "Clipping input data to the valid range for imshow with RGB data ([0..1] for floats or [0..255] for integers).\n"
          ],
          "name": "stderr"
        },
        {
          "output_type": "stream",
          "text": [
            "194\n",
            "[0. 1.]\n"
          ],
          "name": "stdout"
        },
        {
          "output_type": "display_data",
          "data": {
            "image/png": "[encoded data removed]",
            "text/plain": [
              "<Figure size 432x288 with 1 Axes>"
            ]
          },
          "metadata": {
            "tags": [],
            "needs_background": "light"
          }
        }
      ]
    },
    {
      "cell_type": "markdown",
      "metadata": {
        "id": "_8IJNkX9Z5RJ"
      },
      "source": [
        "# **Spliting Data**"
      ]
    },
    {
      "cell_type": "code",
      "metadata": {
        "id": "9Rv6hFbXxd4Q"
      },
      "source": [
        "from sklearn.model_selection import train_test_split\n",
        "x_train, x_test, y_train, y_test = train_test_split(data, label, test_size = 0.25, random_state = 0)"
      ],
      "execution_count": 14,
      "outputs": []
    },
    {
      "cell_type": "code",
      "metadata": {
        "colab": {
          "base_uri": "https://localhost:8080/"
        },
        "id": "IUEVvDiDq3Wx",
        "outputId": "c0b47c30-b626-4fdd-fc09-162d36da8c4e"
      },
      "source": [
        "#from tensorflow.keras.utils import to_categorical\n",
        "#data = to_categorical(data)\n",
        "print(x_train.shape)\n",
        "print(x_test.shape)\n"
      ],
      "execution_count": 15,
      "outputs": [
        {
          "output_type": "stream",
          "text": [
            "(1032, 256, 256, 3)\n",
            "(344, 256, 256, 3)\n"
          ],
          "name": "stdout"
        }
      ]
    },
    {
      "cell_type": "code",
      "metadata": {
        "id": "eXHYVbhfq3Wx"
      },
      "source": [
        "from sklearn.utils import shuffle\n",
        "x_train,y_train=shuffle(x_train,y_train)\n"
      ],
      "execution_count": 16,
      "outputs": []
    },
    {
      "cell_type": "code",
      "metadata": {
        "colab": {
          "base_uri": "https://localhost:8080/"
        },
        "id": "qojaxRR6y4fc",
        "outputId": "a59cafda-de76-4293-9ac6-1394d51ca5f6"
      },
      "source": [
        "tf.image.rgb_to_grayscale(x_train, name=None)\n",
        "tf.image.rgb_to_grayscale(x_test, name=None)"
      ],
      "execution_count": 17,
      "outputs": [
        {
          "output_type": "execute_result",
          "data": {
            "text/plain": [
              "<tf.Tensor: shape=(344, 256, 256, 1), dtype=float32, numpy=\n",
              "array([[[[ 0.32668984],\n",
              "         [ 0.32668984],\n",
              "         [ 0.28747806],\n",
              "         ...,\n",
              "         [ 0.46421924],\n",
              "         [ 0.4563769 ],\n",
              "         [ 0.44853455]],\n",
              "\n",
              "        [[ 0.2331377 ],\n",
              "         [ 0.2488224 ],\n",
              "         [ 0.2488224 ],\n",
              "         ...,\n",
              "         [ 0.4720616 ],\n",
              "         [ 0.46421924],\n",
              "         [ 0.4563769 ]],\n",
              "\n",
              "        [[ 0.21519338],\n",
              "         [ 0.2465628 ],\n",
              "         [ 0.25440514],\n",
              "         ...,\n",
              "         [ 0.47990397],\n",
              "         [ 0.46421924],\n",
              "         [ 0.4563769 ]],\n",
              "\n",
              "        ...,\n",
              "\n",
              "        [[ 0.24809216],\n",
              "         [ 0.22456512],\n",
              "         [ 0.20888041],\n",
              "         ...,\n",
              "         [-0.01492272],\n",
              "         [ 0.02024119],\n",
              "         [ 0.03366629]],\n",
              "\n",
              "        [[ 0.23061922],\n",
              "         [ 0.23061922],\n",
              "         [ 0.22277687],\n",
              "         ...,\n",
              "         [-0.04629213],\n",
              "         [-0.03465527],\n",
              "         [-0.02123018]],\n",
              "\n",
              "        [[ 0.19051336],\n",
              "         [ 0.19051336],\n",
              "         [ 0.19051336],\n",
              "         ...,\n",
              "         [-0.04629213],\n",
              "         [-0.03465527],\n",
              "         [-0.02123018]]],\n",
              "\n",
              "\n",
              "       [[[ 0.98148435],\n",
              "         [ 0.98979807],\n",
              "         [ 0.9834898 ],\n",
              "         ...,\n",
              "         [ 0.99755573],\n",
              "         [ 0.99755573],\n",
              "         [ 0.99755573]],\n",
              "\n",
              "        [[ 0.97254235],\n",
              "         [ 0.92101693],\n",
              "         [ 0.93558943],\n",
              "         ...,\n",
              "         [ 0.9273243 ],\n",
              "         [ 0.9258742 ],\n",
              "         [ 0.92911255]],\n",
              "\n",
              "        [[ 0.73503494],\n",
              "         [ 0.35600355],\n",
              "         [ 0.37126473],\n",
              "         ...,\n",
              "         [ 0.19102396],\n",
              "         [ 0.17623337],\n",
              "         [ 0.19370632]],\n",
              "\n",
              "        ...,\n",
              "\n",
              "        [[ 0.01150945],\n",
              "         [-0.9906922 ],\n",
              "         [-0.9667424 ],\n",
              "         ...,\n",
              "         [-0.25525293],\n",
              "         [-0.13088743],\n",
              "         [-0.63799417]],\n",
              "\n",
              "        [[ 0.31001297],\n",
              "         [-0.58337456],\n",
              "         [-0.76511335],\n",
              "         ...,\n",
              "         [-0.71215177],\n",
              "         [-0.5308702 ],\n",
              "         [-0.8833047 ]],\n",
              "\n",
              "        [[ 0.39587963],\n",
              "         [-0.3497486 ],\n",
              "         [-0.19797763],\n",
              "         ...,\n",
              "         [-0.7505769 ],\n",
              "         [-0.9709596 ],\n",
              "         [-0.98148435]]],\n",
              "\n",
              "\n",
              "       [[[ 0.99990004],\n",
              "         [ 0.99990004],\n",
              "         [ 0.99990004],\n",
              "         ...,\n",
              "         [ 0.99990004],\n",
              "         [ 0.99990004],\n",
              "         [ 0.99990004]],\n",
              "\n",
              "        [[ 0.99990004],\n",
              "         [ 0.99990004],\n",
              "         [ 0.99990004],\n",
              "         ...,\n",
              "         [ 0.99990004],\n",
              "         [ 0.99990004],\n",
              "         [ 0.99990004]],\n",
              "\n",
              "        [[ 0.99990004],\n",
              "         [ 0.99990004],\n",
              "         [ 0.9920577 ],\n",
              "         ...,\n",
              "         [ 0.99990004],\n",
              "         [ 0.99990004],\n",
              "         [ 0.99990004]],\n",
              "\n",
              "        ...,\n",
              "\n",
              "        [[ 0.9751408 ],\n",
              "         [ 0.953402  ],\n",
              "         [ 0.6165055 ],\n",
              "         ...,\n",
              "         [-0.489391  ],\n",
              "         [-0.3698341 ],\n",
              "         [-0.33062235]],\n",
              "\n",
              "        [[ 0.96729845],\n",
              "         [ 0.953402  ],\n",
              "         [ 0.6086632 ],\n",
              "         ...,\n",
              "         [-0.5139455 ],\n",
              "         [-0.41378313],\n",
              "         [-0.39025605]],\n",
              "\n",
              "        [[ 0.96729845],\n",
              "         [ 0.953402  ],\n",
              "         [ 0.6086632 ],\n",
              "         ...,\n",
              "         [-0.5365784 ],\n",
              "         [-0.41110078],\n",
              "         [-0.3875737 ]]],\n",
              "\n",
              "\n",
              "       ...,\n",
              "\n",
              "\n",
              "       [[[ 0.46463102],\n",
              "         [ 0.47247335],\n",
              "         [ 0.48031574],\n",
              "         ...,\n",
              "         [ 0.8678616 ],\n",
              "         [ 0.8443345 ],\n",
              "         [ 0.8443345 ]],\n",
              "\n",
              "        [[ 0.47247335],\n",
              "         [ 0.48031574],\n",
              "         [ 0.49826005],\n",
              "         ...,\n",
              "         [ 0.7815957 ],\n",
              "         [ 0.6247487 ],\n",
              "         [ 0.72669923]],\n",
              "\n",
              "        [[ 0.49826005],\n",
              "         [ 0.5061024 ],\n",
              "         [ 0.5217871 ],\n",
              "         ...,\n",
              "         [ 0.7728592 ],\n",
              "         [ 0.56895804],\n",
              "         [ 0.58464277]],\n",
              "\n",
              "        ...,\n",
              "\n",
              "        [[-0.33633137],\n",
              "         [-0.29711962],\n",
              "         [-0.1929941 ],\n",
              "         ...,\n",
              "         [-0.3009988 ],\n",
              "         [ 0.48175025],\n",
              "         [ 0.8124098 ]],\n",
              "\n",
              "        [[-0.30308902],\n",
              "         [-0.26396194],\n",
              "         [-0.3739243 ],\n",
              "         ...,\n",
              "         [-0.46577296],\n",
              "         [ 0.44748044],\n",
              "         [ 0.77959025]],\n",
              "\n",
              "        [[-0.27721766],\n",
              "         [-0.24043489],\n",
              "         [-0.5464561 ],\n",
              "         ...,\n",
              "         [-0.3777188 ],\n",
              "         [ 0.40268594],\n",
              "         [ 0.7891361 ]]],\n",
              "\n",
              "\n",
              "       [[[-0.99990004],\n",
              "         [-0.99990004],\n",
              "         [-0.99990004],\n",
              "         ...,\n",
              "         [-0.99990004],\n",
              "         [-0.99990004],\n",
              "         [-0.99990004]],\n",
              "\n",
              "        [[-0.99990004],\n",
              "         [-0.99990004],\n",
              "         [-0.99990004],\n",
              "         ...,\n",
              "         [-0.99990004],\n",
              "         [-0.99990004],\n",
              "         [-0.99990004]],\n",
              "\n",
              "        [[-0.99990004],\n",
              "         [-0.99990004],\n",
              "         [-0.99990004],\n",
              "         ...,\n",
              "         [-0.99990004],\n",
              "         [-0.99990004],\n",
              "         [-0.99990004]],\n",
              "\n",
              "        ...,\n",
              "\n",
              "        [[ 0.22234632],\n",
              "         [ 0.25371572],\n",
              "         [ 0.27724278],\n",
              "         ...,\n",
              "         [ 0.59107023],\n",
              "         [ 0.5518585 ],\n",
              "         [ 0.5597008 ]],\n",
              "\n",
              "        [[ 0.19881926],\n",
              "         [ 0.25371572],\n",
              "         [ 0.2929275 ],\n",
              "         ...,\n",
              "         [ 0.5753855 ],\n",
              "         [ 0.5440161 ],\n",
              "         [ 0.5597008 ]],\n",
              "\n",
              "        [[ 0.17529221],\n",
              "         [ 0.24587339],\n",
              "         [ 0.31645456],\n",
              "         ...,\n",
              "         [ 0.5753855 ],\n",
              "         [ 0.5518585 ],\n",
              "         [ 0.5440161 ]]],\n",
              "\n",
              "\n",
              "       [[[ 0.9906922 ],\n",
              "         [ 0.9469612 ],\n",
              "         [ 0.9534867 ],\n",
              "         ...,\n",
              "         [ 0.98660827],\n",
              "         [ 0.97723097],\n",
              "         [ 0.98873454]],\n",
              "\n",
              "        [[ 0.77208513],\n",
              "         [ 0.858351  ],\n",
              "         [ 0.9456443 ],\n",
              "         ...,\n",
              "         [ 0.92147654],\n",
              "         [ 0.9906075 ],\n",
              "         [ 0.8050734 ]],\n",
              "\n",
              "        [[ 0.9524592 ],\n",
              "         [ 0.9906922 ],\n",
              "         [ 0.9690867 ],\n",
              "         ...,\n",
              "         [ 0.86380047],\n",
              "         [ 0.91451573],\n",
              "         [ 0.94230866]],\n",
              "\n",
              "        ...,\n",
              "\n",
              "        [[ 0.97897065],\n",
              "         [ 0.7342742 ],\n",
              "         [ 0.9928671 ],\n",
              "         ...,\n",
              "         [ 0.91921693],\n",
              "         [ 0.96132904],\n",
              "         [ 0.9917196 ]],\n",
              "\n",
              "        [[ 0.9443142 ],\n",
              "         [ 0.8755212 ],\n",
              "         [ 0.86555254],\n",
              "         ...,\n",
              "         [ 0.82131416],\n",
              "         [ 0.9221173 ],\n",
              "         [ 0.96738315]],\n",
              "\n",
              "        [[ 0.9860883 ],\n",
              "         [ 0.7041863 ],\n",
              "         [ 0.81185293],\n",
              "         ...,\n",
              "         [-0.13600901],\n",
              "         [ 0.97458476],\n",
              "         [ 0.9068193 ]]]], dtype=float32)>"
            ]
          },
          "metadata": {
            "tags": []
          },
          "execution_count": 17
        }
      ]
    },
    {
      "cell_type": "code",
      "metadata": {
        "colab": {
          "base_uri": "https://localhost:8080/",
          "height": 303
        },
        "id": "wurH_kcH1TLY",
        "outputId": "0c4fc733-eee1-4869-f45a-080e34636bef"
      },
      "source": [
        "plt.figure()\n",
        "plt.imshow(x_train[53],cmap='gray')"
      ],
      "execution_count": 18,
      "outputs": [
        {
          "output_type": "stream",
          "text": [
            "Clipping input data to the valid range for imshow with RGB data ([0..1] for floats or [0..255] for integers).\n"
          ],
          "name": "stderr"
        },
        {
          "output_type": "execute_result",
          "data": {
            "text/plain": [
              "<matplotlib.image.AxesImage at 0x7f51727185f8>"
            ]
          },
          "metadata": {
            "tags": []
          },
          "execution_count": 18
        },
        {
          "output_type": "display_data",
          "data": {
            "image/png": "[encoded data removed]",
            "text/plain": [
              "<Figure size 432x288 with 1 Axes>"
            ]
          },
          "metadata": {
            "tags": [],
            "needs_background": "light"
          }
        }
      ]
    },
    {
      "cell_type": "markdown",
      "metadata": {
        "id": "cDN25np-aEiO"
      },
      "source": [
        "# **Training the Model**"
      ]
    },
    {
      "cell_type": "code",
      "metadata": {
        "colab": {
          "base_uri": "https://localhost:8080/"
        },
        "id": "G6-nVJB-EKq_",
        "outputId": "a09b2486-e2ed-48f9-d5dc-22f4b18c7210"
      },
      "source": [
        "from tensorflow.keras import models,datasets,layers\n",
        "CNN = models.Sequential()\n",
        "CNN.add(layers.Conv2D(200,(3,3),activation='relu',input_shape=x_train[0].shape))\n",
        "CNN.add(layers.AveragePooling2D(pool_size=(2,2)))\n",
        "\n",
        "CNN.add(layers.Dropout(0.2))\n",
        "\n",
        "CNN.add(layers.Conv2D(80,(3,3),activation='relu'))\n",
        "CNN.add(layers.AveragePooling2D(pool_size=(2,2)))\n",
        "\n",
        "CNN.add(layers.Flatten())\n",
        "\n",
        "\n",
        "\n",
        "CNN.add(layers.Dense(50,activation='relu'))\n",
        "CNN.add(layers.Dense(2,activation='softmax'))\n",
        "CNN.summary()"
      ],
      "execution_count": 19,
      "outputs": [
        {
          "output_type": "stream",
          "text": [
            "Model: \"sequential\"\n",
            "_________________________________________________________________\n",
            "Layer (type)                 Output Shape              Param #   \n",
            "=================================================================\n",
            "conv2d (Conv2D)              (None, 254, 254, 200)     5600      \n",
            "_________________________________________________________________\n",
            "average_pooling2d (AveragePo (None, 127, 127, 200)     0         \n",
            "_________________________________________________________________\n",
            "dropout (Dropout)            (None, 127, 127, 200)     0         \n",
            "_________________________________________________________________\n",
            "conv2d_1 (Conv2D)            (None, 125, 125, 80)      144080    \n",
            "_________________________________________________________________\n",
            "average_pooling2d_1 (Average (None, 62, 62, 80)        0         \n",
            "_________________________________________________________________\n",
            "flatten (Flatten)            (None, 307520)            0         \n",
            "_________________________________________________________________\n",
            "dense (Dense)                (None, 50)                15376050  \n",
            "_________________________________________________________________\n",
            "dense_1 (Dense)              (None, 2)                 102       \n",
            "=================================================================\n",
            "Total params: 15,525,832\n",
            "Trainable params: 15,525,832\n",
            "Non-trainable params: 0\n",
            "_________________________________________________________________\n"
          ],
          "name": "stdout"
        }
      ]
    },
    {
      "cell_type": "code",
      "metadata": {
        "colab": {
          "base_uri": "https://localhost:8080/"
        },
        "id": "OAFZI6XBEbKx",
        "outputId": "1fb93e60-04e3-4292-bf15-3b76cb71269e"
      },
      "source": [
        "CNN.compile(optimizer='Adam',loss='categorical_crossentropy',metrics=['accuracy'])\n",
        "\n",
        "history = CNN.fit(x_train,\n",
        "       y_train,\n",
        "       batch_size=64,\n",
        "       epochs=10,\n",
        "       verbose=1\n",
        "       )"
      ],
      "execution_count": 20,
      "outputs": [
        {
          "output_type": "stream",
          "text": [
            "Epoch 1/10\n",
            "17/17 [==============================] - 406s 24s/step - loss: 1.3920 - accuracy: 0.5678\n",
            "Epoch 2/10\n",
            "17/17 [==============================] - 419s 25s/step - loss: 0.2979 - accuracy: 0.9118\n",
            "Epoch 3/10\n",
            "17/17 [==============================] - 434s 26s/step - loss: 0.1515 - accuracy: 0.9632\n",
            "Epoch 4/10\n",
            "17/17 [==============================] - 438s 26s/step - loss: 0.1089 - accuracy: 0.9680\n",
            "Epoch 5/10\n",
            "17/17 [==============================] - 440s 26s/step - loss: 0.0803 - accuracy: 0.9641\n",
            "Epoch 6/10\n",
            "17/17 [==============================] - 429s 25s/step - loss: 0.0876 - accuracy: 0.9758\n",
            "Epoch 7/10\n",
            "17/17 [==============================] - 422s 25s/step - loss: 0.0698 - accuracy: 0.9835\n",
            "Epoch 8/10\n",
            "17/17 [==============================] - 428s 25s/step - loss: 0.0505 - accuracy: 0.9874\n",
            "Epoch 9/10\n",
            "17/17 [==============================] - 430s 25s/step - loss: 0.0534 - accuracy: 0.9893\n",
            "Epoch 10/10\n",
            "17/17 [==============================] - 432s 25s/step - loss: 0.0443 - accuracy: 0.9932\n"
          ],
          "name": "stdout"
        }
      ]
    },
    {
      "cell_type": "code",
      "metadata": {
        "colab": {
          "base_uri": "https://localhost:8080/",
          "height": 330
        },
        "id": "apkmUYqlWyZg",
        "outputId": "f126f322-b528-4675-86b4-5bc17e6c9a13"
      },
      "source": [
        "plt.plot(history.history['loss'])\n",
        "plt.xlabel('epochs')\n",
        "plt.ylabel('loss')\n",
        "plt.legend()\n",
        "plt.show()\n",
        "print(CNN.evaluate(x_test,y_test))"
      ],
      "execution_count": 23,
      "outputs": [
        {
          "output_type": "stream",
          "text": [
            "No handles with labels found to put in legend.\n"
          ],
          "name": "stderr"
        },
        {
          "output_type": "display_data",
          "data": {
            "image/png": "[encoded data removed]",
            "text/plain": [
              "<Figure size 432x288 with 1 Axes>"
            ]
          },
          "metadata": {
            "tags": [],
            "needs_background": "light"
          }
        },
        {
          "output_type": "stream",
          "text": [
            "11/11 [==============================] - 34s 3s/step - loss: 0.1963 - accuracy: 0.9709\n",
            "[0.1962614506483078, 0.9709302186965942]\n"
          ],
          "name": "stdout"
        }
      ]
    }
  ]
}